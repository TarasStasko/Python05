{
  "nbformat": 4,
  "nbformat_minor": 0,
  "metadata": {
    "colab": {
      "provenance": [],
      "authorship_tag": "ABX9TyMLlQ0ggJRBF4UGsx1juIUN",
      "include_colab_link": true
    },
    "kernelspec": {
      "name": "python3",
      "display_name": "Python 3"
    },
    "language_info": {
      "name": "python"
    }
  },
  "cells": [
    {
      "cell_type": "markdown",
      "metadata": {
        "id": "view-in-github",
        "colab_type": "text"
      },
      "source": [
        "<a href=\"https://colab.research.google.com/github/TarasStasko/Python05/blob/main/Stasko05.ipynb\" target=\"_parent\"><img src=\"https://colab.research.google.com/assets/colab-badge.svg\" alt=\"Open In Colab\"/></a>"
      ]
    },
    {
      "cell_type": "code",
      "execution_count": 22,
      "metadata": {
        "colab": {
          "base_uri": "https://localhost:8080/"
        },
        "id": "8_vjHh1nAHMT",
        "outputId": "3d90bd5b-f4e3-4923-b6a6-a2e82361da72"
      },
      "outputs": [
        {
          "output_type": "stream",
          "name": "stdout",
          "text": [
            "The age of Alex is 10\n",
            "Lucy makes a sound typical for a Cat.\n"
          ]
        }
      ],
      "source": [
        "class animal():\n",
        "  def __init__(self, species, name, age):\n",
        "    self.species = species\n",
        "    self.age = 10\n",
        "    self.name = name\n",
        "  def description(self):\n",
        "        print(f\"This is {self.name}, a {self.age} year old {self.species}.\")\n",
        "\n",
        "  def sound(self):\n",
        "        print(f\"{self.name} makes a sound typical for a {self.species}.\")\n",
        "animal1 = animal(\"dog\", \"Alex\", 10)\n",
        "print(f\"The age of {animal1.name} is {animal1.age}\")\n",
        "animal2 = animal(species=\"Cat\", name=\"Lucy\", age=5)\n",
        "animal2.sound()"
      ]
    },
    {
      "cell_type": "code",
      "source": [
        "class Attributes():\n",
        "    def __init__(self):\n",
        "        self.public = \"Public attribute\"\n",
        "        self._protected = \"Protected attribute\"\n",
        "        self.__private = \"Private attribute\"\n",
        "\n",
        "obj = Attributes()\n",
        "\n",
        "print(\"Public attribute:\", obj.public)\n",
        "print(\"Protected attribute:\", obj._protected)\n",
        "# Не вдається отримати приватний атрибут\n",
        "print(\"Private attribute:\", obj.__private)"
      ],
      "metadata": {
        "colab": {
          "base_uri": "https://localhost:8080/",
          "height": 211
        },
        "id": "eyCVBKH8sayI",
        "outputId": "6aea4825-64d0-4193-c9bf-f7b6a6cd3f4c"
      },
      "execution_count": 27,
      "outputs": [
        {
          "output_type": "stream",
          "name": "stdout",
          "text": [
            "Public attribute: Public attribute\n",
            "Protected attribute: Protected attribute\n"
          ]
        },
        {
          "output_type": "error",
          "ename": "AttributeError",
          "evalue": "'Attributes' object has no attribute '__private'",
          "traceback": [
            "\u001b[0;31m---------------------------------------------------------------------------\u001b[0m",
            "\u001b[0;31mAttributeError\u001b[0m                            Traceback (most recent call last)",
            "\u001b[0;32m<ipython-input-27-5ca425fd9e5c>\u001b[0m in \u001b[0;36m<cell line: 12>\u001b[0;34m()\u001b[0m\n\u001b[1;32m     10\u001b[0m \u001b[0mprint\u001b[0m\u001b[0;34m(\u001b[0m\u001b[0;34m\"Protected attribute:\"\u001b[0m\u001b[0;34m,\u001b[0m \u001b[0mobj\u001b[0m\u001b[0;34m.\u001b[0m\u001b[0m_protected\u001b[0m\u001b[0;34m)\u001b[0m\u001b[0;34m\u001b[0m\u001b[0;34m\u001b[0m\u001b[0m\n\u001b[1;32m     11\u001b[0m \u001b[0;31m# Не вдається отримати приватний атрибут\u001b[0m\u001b[0;34m\u001b[0m\u001b[0;34m\u001b[0m\u001b[0m\n\u001b[0;32m---> 12\u001b[0;31m \u001b[0mprint\u001b[0m\u001b[0;34m(\u001b[0m\u001b[0;34m\"Private attribute:\"\u001b[0m\u001b[0;34m,\u001b[0m \u001b[0mobj\u001b[0m\u001b[0;34m.\u001b[0m\u001b[0m__private\u001b[0m\u001b[0;34m)\u001b[0m\u001b[0;34m\u001b[0m\u001b[0;34m\u001b[0m\u001b[0m\n\u001b[0m",
            "\u001b[0;31mAttributeError\u001b[0m: 'Attributes' object has no attribute '__private'"
          ]
        }
      ]
    },
    {
      "cell_type": "code",
      "source": [
        "# У методах класів self є першим параметром і вказує на екземпляр класу, з яким викликано метод.\n",
        "# Метод __init__ використовується для ініціалізації об'єкта класу.\n",
        "# Він дозволяє задати початкові значення атрибутів об'єкта та виконати інші необхідні дії для підготовки об'єкта до використання.\n",
        "#"
      ],
      "metadata": {
        "id": "FMF_PSGvsJpg"
      },
      "execution_count": 28,
      "outputs": []
    },
    {
      "cell_type": "code",
      "source": [
        "import math\n",
        "class Figure:\n",
        "    def get_area(self):\n",
        "        return 0\n",
        "\n",
        "    def __add__(self, other):\n",
        "        return self.get_area() + other.get_area()\n",
        "\n",
        "class Triangle(Figure):\n",
        "    def __init__(self, base, height):\n",
        "        self.base = base\n",
        "        self.height = height\n",
        "\n",
        "    def get_area(self):\n",
        "        return 0.5 * self.base * self.height\n",
        "\n",
        "class Circle(Figure):\n",
        "    def __init__(self, radius):\n",
        "        self.radius = radius\n",
        "\n",
        "    def get_area(self):\n",
        "        return math.pi * self.radius ** 2\n",
        "\n",
        "triangle = Triangle(base=5, height=4)\n",
        "circle = Circle(radius=4)\n",
        "\n",
        "print(\"Area of triangle:\", triangle.get_area())\n",
        "print(\"Area of circle:\", circle.get_area())\n",
        "\n",
        "total_area = triangle + circle\n",
        "print(\"Sum of areas:\", total_area)"
      ],
      "metadata": {
        "colab": {
          "base_uri": "https://localhost:8080/"
        },
        "id": "cXF6-hU80GkF",
        "outputId": "2629e639-c8cf-469d-ee68-61e29fbd1076"
      },
      "execution_count": 32,
      "outputs": [
        {
          "output_type": "stream",
          "name": "stdout",
          "text": [
            "Area of triangle: 10.0\n",
            "Area of circle: 50.26548245743669\n",
            "Sum of areas: 60.26548245743669\n"
          ]
        }
      ]
    },
    {
      "cell_type": "code",
      "source": [
        "class MyClass1:\n",
        "    pass\n",
        "\n",
        "class MyClass2(MyClass1):\n",
        "    pass\n",
        "\n",
        "obj_b = MyClass2()\n",
        "\n",
        "print(isinstance(obj_b, MyClass2))\n",
        "\n",
        "print(isinstance(obj_b, MyClass1))\n",
        "\n",
        "print(issubclass(MyClass2, MyClass1))\n",
        "\n",
        "print(issubclass(MyClass1, MyClass2))"
      ],
      "metadata": {
        "colab": {
          "base_uri": "https://localhost:8080/"
        },
        "id": "a_ZXXRXn3MWJ",
        "outputId": "d77a7b16-5e16-4fe6-83dc-5ac59420aef3"
      },
      "execution_count": 34,
      "outputs": [
        {
          "output_type": "stream",
          "name": "stdout",
          "text": [
            "True\n",
            "True\n",
            "True\n",
            "False\n"
          ]
        }
      ]
    },
    {
      "cell_type": "code",
      "source": [
        "class BankAccount:\n",
        "    def __init__(self, initial_balance, account_number):\n",
        "        self._balance = initial_balance\n",
        "        self._account_number = account_number\n",
        "\n",
        "    @property\n",
        "    def balance(self):\n",
        "        return self._balance\n",
        "\n",
        "    @property\n",
        "    def account_number(self):\n",
        "        return self._account_number\n",
        "\n",
        "    @balance.setter\n",
        "    def balance(self, amount):\n",
        "        self._balance = amount\n",
        "\n",
        "    def deposit(self, amount):\n",
        "        self.balance += amount\n",
        "\n",
        "    def withdraw(self, amount):\n",
        "        self.balance -= amount\n",
        "\n",
        "account = BankAccount(initial_balance=1000, account_number=\"4654981265\")\n",
        "print(\"Balance before deposit:\", account.balance)\n",
        "account.deposit(500)\n",
        "print(\"Balance after deposit:\", account.balance)\n",
        "account.withdraw(200)\n",
        "print(\"Balance after withdrawal:\", account.balance)\n",
        "\n"
      ],
      "metadata": {
        "colab": {
          "base_uri": "https://localhost:8080/"
        },
        "id": "7rOrCJ5d7Y-k",
        "outputId": "0c0e2faa-a5be-4f3e-dd4e-8c1ed64c0095"
      },
      "execution_count": 36,
      "outputs": [
        {
          "output_type": "stream",
          "name": "stdout",
          "text": [
            "Balance before deposit: 1000\n",
            "Balance after deposit: 1500\n",
            "Balance after withdrawal: 1300\n"
          ]
        }
      ]
    },
    {
      "cell_type": "code",
      "source": [
        "class Book:\n",
        "    def __init__(self, title, author):\n",
        "        self.title = title\n",
        "        self.author = author\n",
        "\n",
        "class Library:\n",
        "    def __init__(self):\n",
        "        self.books = []\n",
        "\n",
        "    def add_book(self, book):\n",
        "        self.books.append(book)\n",
        "        print(f\"Book '{book.title}' by {book.author} has been added to the library.\")\n",
        "\n",
        "    def remove_book(self, title):\n",
        "        for book in self.books:\n",
        "            if book.title == title:\n",
        "                self.books.remove(book)\n",
        "                print(f\"Book '{book.title}' by {book.author} has been removed from the library.\")\n",
        "                return\n",
        "        print(f\"Book with title '{title}' not found in the library.\")\n",
        "\n",
        "    def display_books(self):\n",
        "        if self.books:\n",
        "            print(\"Books in the library:\")\n",
        "            for book in self.books:\n",
        "                print(f\"Title: {book.title}, Author: {book.author}\")\n",
        "        else:\n",
        "            print(\"No books in the library.\")\n",
        "\n",
        "# Приклад використання\n",
        "library = Library()\n",
        "\n",
        "book1 = Book(\"The Great Gatsby\", \"F. Scott Fitzgerald\")\n",
        "book2 = Book(\"Harry Potter and the Chamber of Secrets\", \"J. K. Rowling\")\n",
        "\n",
        "library.add_book(book1)\n",
        "library.add_book(book2)\n",
        "\n",
        "library.display_books()\n",
        "\n",
        "library.remove_book(\"Harry Potter and the Chamber of Secrets\")\n",
        "\n",
        "library.display_books()\n"
      ],
      "metadata": {
        "colab": {
          "base_uri": "https://localhost:8080/"
        },
        "id": "akaTvJFN9BTd",
        "outputId": "11f6f683-df82-4be5-c6ca-f7b755f5a7e2"
      },
      "execution_count": 39,
      "outputs": [
        {
          "output_type": "stream",
          "name": "stdout",
          "text": [
            "Book 'The Great Gatsby' by F. Scott Fitzgerald has been added to the library.\n",
            "Book 'Harry Potter and the Chamber of Secrets' by J. K. Rowling has been added to the library.\n",
            "Books in the library:\n",
            "Title: The Great Gatsby, Author: F. Scott Fitzgerald\n",
            "Title: Harry Potter and the Chamber of Secrets, Author: J. K. Rowling\n",
            "Book 'Harry Potter and the Chamber of Secrets' by J. K. Rowling has been removed from the library.\n",
            "Books in the library:\n",
            "Title: The Great Gatsby, Author: F. Scott Fitzgerald\n"
          ]
        }
      ]
    },
    {
      "cell_type": "code",
      "source": [
        "class Person:\n",
        "    def __init__(self, name, age):\n",
        "        self.name = name\n",
        "        self.age = age\n",
        "\n",
        "class Employee:\n",
        "    def __init__(self, department, salary):\n",
        "        self.department = department\n",
        "        self.salary = salary\n",
        "\n",
        "class Manager(Person, Employee):\n",
        "    def __init__(self, name, age, department, salary):\n",
        "        Person.__init__(self, name, age)\n",
        "        Employee.__init__(self, department, salary)\n",
        "\n",
        "manager = Manager(name=\"John\", age=35, department=\"Engineering\", salary=90000)\n",
        "\n",
        "print(Manager.mro())"
      ],
      "metadata": {
        "colab": {
          "base_uri": "https://localhost:8080/"
        },
        "id": "eXwOdGmm_ZQ8",
        "outputId": "ee0218ac-7b00-4d1c-9c91-b353d0d8de93"
      },
      "execution_count": 40,
      "outputs": [
        {
          "output_type": "stream",
          "name": "stdout",
          "text": [
            "[<class '__main__.Manager'>, <class '__main__.Person'>, <class '__main__.Employee'>, <class 'object'>]\n"
          ]
        }
      ]
    },
    {
      "cell_type": "code",
      "source": [
        "my_string = \"abcd\"\n",
        "\n",
        "my_iterator = iter(my_string)\n",
        "\n",
        "for _ in range(5):\n",
        "    try:\n",
        "        value = next(my_iterator)\n",
        "        if _ < 4:\n",
        "            print(value)\n",
        "        else:\n",
        "            print(f\"Last value: {value}\")\n",
        "    except StopIteration:\n",
        "        print(\"No more elements in the iterator.\")\n",
        "        break\n",
        "\n",
        "# Якщо викликати функцію next() на рядку, це призведе до виникнення помилки TypeError,\n",
        "#  оскільки рядок не є ітерабельним об'єктом, який можна перебрати за допомогою ітератора"
      ],
      "metadata": {
        "colab": {
          "base_uri": "https://localhost:8080/"
        },
        "id": "jZwqmk9eAr9o",
        "outputId": "6f8e6bfe-3e73-4396-9757-9b1f7101d043"
      },
      "execution_count": 42,
      "outputs": [
        {
          "output_type": "stream",
          "name": "stdout",
          "text": [
            "a\n",
            "b\n",
            "c\n",
            "d\n",
            "No more elements in the iterator.\n"
          ]
        }
      ]
    },
    {
      "cell_type": "code",
      "source": [
        "# Ітерабельні об'єкти є об'єктами, які можна перебрати за допомогою ітератора і зазвичай містять послідовність елементів, тоді як ітератори - це об'єкти, які використовуються для послідовного отримання елементів з ітерабельного об'єкта"
      ],
      "metadata": {
        "id": "ZEuIj5cADMUN"
      },
      "execution_count": null,
      "outputs": []
    },
    {
      "cell_type": "code",
      "source": [
        "class AlphabetIterator:\n",
        "    def __init__(self):\n",
        "        self.current_char = ord('a')\n",
        "\n",
        "    def __iter__(self):\n",
        "        return self\n",
        "\n",
        "    def __next__(self):\n",
        "        if self.current_char <= ord('z'):\n",
        "            char = chr(self.current_char)\n",
        "            self.current_char += 1\n",
        "            return char\n",
        "        else:\n",
        "            raise StopIteration\n",
        "\n",
        "alphabet_iter = AlphabetIterator()\n",
        "\n",
        "for _ in range(30):\n",
        "    print(next(alphabet_iter))\n"
      ],
      "metadata": {
        "colab": {
          "base_uri": "https://localhost:8080/",
          "height": 748
        },
        "id": "aOtRa_WODkwj",
        "outputId": "fbba9b9b-38ea-4e66-cca1-2f3db34c01a0"
      },
      "execution_count": 46,
      "outputs": [
        {
          "output_type": "stream",
          "name": "stdout",
          "text": [
            "a\n",
            "b\n",
            "c\n",
            "d\n",
            "e\n",
            "f\n",
            "g\n",
            "h\n",
            "i\n",
            "j\n",
            "k\n",
            "l\n",
            "m\n",
            "n\n",
            "o\n",
            "p\n",
            "q\n",
            "r\n",
            "s\n",
            "t\n",
            "u\n",
            "v\n",
            "w\n",
            "x\n",
            "y\n",
            "z\n"
          ]
        },
        {
          "output_type": "error",
          "ename": "StopIteration",
          "evalue": "",
          "traceback": [
            "\u001b[0;31m---------------------------------------------------------------------------\u001b[0m",
            "\u001b[0;31mStopIteration\u001b[0m                             Traceback (most recent call last)",
            "\u001b[0;32m<ipython-input-46-a224c9b02017>\u001b[0m in \u001b[0;36m<cell line: 18>\u001b[0;34m()\u001b[0m\n\u001b[1;32m     17\u001b[0m \u001b[0;34m\u001b[0m\u001b[0m\n\u001b[1;32m     18\u001b[0m \u001b[0;32mfor\u001b[0m \u001b[0m_\u001b[0m \u001b[0;32min\u001b[0m \u001b[0mrange\u001b[0m\u001b[0;34m(\u001b[0m\u001b[0;36m30\u001b[0m\u001b[0;34m)\u001b[0m\u001b[0;34m:\u001b[0m\u001b[0;34m\u001b[0m\u001b[0;34m\u001b[0m\u001b[0m\n\u001b[0;32m---> 19\u001b[0;31m     \u001b[0mprint\u001b[0m\u001b[0;34m(\u001b[0m\u001b[0mnext\u001b[0m\u001b[0;34m(\u001b[0m\u001b[0malphabet_iter\u001b[0m\u001b[0;34m)\u001b[0m\u001b[0;34m)\u001b[0m\u001b[0;34m\u001b[0m\u001b[0;34m\u001b[0m\u001b[0m\n\u001b[0m",
            "\u001b[0;32m<ipython-input-46-a224c9b02017>\u001b[0m in \u001b[0;36m__next__\u001b[0;34m(self)\u001b[0m\n\u001b[1;32m     12\u001b[0m             \u001b[0;32mreturn\u001b[0m \u001b[0mchar\u001b[0m\u001b[0;34m\u001b[0m\u001b[0;34m\u001b[0m\u001b[0m\n\u001b[1;32m     13\u001b[0m         \u001b[0;32melse\u001b[0m\u001b[0;34m:\u001b[0m\u001b[0;34m\u001b[0m\u001b[0;34m\u001b[0m\u001b[0m\n\u001b[0;32m---> 14\u001b[0;31m             \u001b[0;32mraise\u001b[0m \u001b[0mStopIteration\u001b[0m\u001b[0;34m\u001b[0m\u001b[0;34m\u001b[0m\u001b[0m\n\u001b[0m\u001b[1;32m     15\u001b[0m \u001b[0;34m\u001b[0m\u001b[0m\n\u001b[1;32m     16\u001b[0m \u001b[0malphabet_iter\u001b[0m \u001b[0;34m=\u001b[0m \u001b[0mAlphabetIterator\u001b[0m\u001b[0;34m(\u001b[0m\u001b[0;34m)\u001b[0m\u001b[0;34m\u001b[0m\u001b[0;34m\u001b[0m\u001b[0m\n",
            "\u001b[0;31mStopIteration\u001b[0m: "
          ]
        }
      ]
    }
  ]
}